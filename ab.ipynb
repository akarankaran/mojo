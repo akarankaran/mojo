{
 "cells": [
  {
   "cell_type": "code",
   "execution_count": 9,
   "metadata": {},
   "outputs": [],
   "source": [
    "from concurrent.futures import ThreadPoolExecutor, Executor\n",
    "from time import sleep"
   ]
  },
  {
   "cell_type": "code",
   "execution_count": 34,
   "metadata": {},
   "outputs": [],
   "source": [
    "from concurrent.futures import ThreadPoolExecutor\n",
    "\n",
    "def function_1():\n",
    "    sleep(3)\n",
    "    return \"result_1\"\n",
    "\n",
    "def function_2():\n",
    "    sleep(1)\n",
    "    return \"result_2\"\n",
    "\n",
    "def function_3():\n",
    "    sleep(0.5)\n",
    "    return \"result_3\"\n",
    "\n",
    "def function_4():\n",
    "    sleep(4)\n",
    "    return \"result_4\"\n",
    "\n",
    "def function_5():\n",
    "    sleep(5)\n",
    "    return \"result_5\"\n",
    "\n",
    "\n",
    "with ThreadPoolExecutor() as executor:\n",
    "    functions = [function_1, function_2, function_3, function_4, function_5]\n",
    "    futures = {}\n",
    "    for func in functions:\n",
    "        future = executor.submit(func)\n",
    "        futures[future] = func.__name__\n",
    "\n",
    "    results = {}\n",
    "    for future in futures:\n",
    "        results[futures[future]] = future.result()"
   ]
  },
  {
   "cell_type": "code",
   "execution_count": 37,
   "metadata": {},
   "outputs": [],
   "source": []
  }
 ],
 "metadata": {
  "kernelspec": {
   "display_name": "Python 3",
   "language": "python",
   "name": "python3"
  },
  "language_info": {
   "codemirror_mode": {
    "name": "ipython",
    "version": 3
   },
   "file_extension": ".py",
   "mimetype": "text/x-python",
   "name": "python",
   "nbconvert_exporter": "python",
   "pygments_lexer": "ipython3",
   "version": "3.11.2"
  },
  "orig_nbformat": 4
 },
 "nbformat": 4,
 "nbformat_minor": 2
}
